{
 "cells": [
  {
   "cell_type": "markdown",
   "id": "cf543ddf-6e73-4c40-accd-b01dde5c9b31",
   "metadata": {},
   "source": [
    "# My Jupyter Notebook on IBM Watson Studio"
   ]
  },
  {
   "cell_type": "markdown",
   "id": "a2843f86-6e87-4465-b8cb-6fced3a680d7",
   "metadata": {},
   "source": [
    "**Daniel Nduka**\n",
    "\n",
    "Data Scientist"
   ]
  },
  {
   "cell_type": "markdown",
   "id": "84f51022-238c-414b-8116-701f73b31124",
   "metadata": {},
   "source": [
    "*I am interested in Data science because i have great love for solving issues using python and SQL. Data science is the next best thing to channel my great abilities using python and other powerful tools.*"
   ]
  },
  {
   "cell_type": "markdown",
   "id": "912a8c17-a90b-45a8-b924-3b16666b4390",
   "metadata": {},
   "source": [
    "### Cell 5 shows how to concatenate both string and integer in a single print statement and also variable assignment"
   ]
  },
  {
   "cell_type": "code",
   "execution_count": 6,
   "id": "06f83ddd-8ee3-43a3-9830-13b65eb2b220",
   "metadata": {},
   "outputs": [
    {
     "name": "stdout",
     "output_type": "stream",
     "text": [
      "Hello Mr. Daniel your current age is  26\n"
     ]
    }
   ],
   "source": [
    "name=\"Daniel\"\n",
    "age=26\n",
    "print(\"Hello Mr. \" + name + \" your current age is \", age)"
   ]
  },
  {
   "cell_type": "markdown",
   "id": "b048d641-7a5f-40b2-bd4f-404ec1bc01f1",
   "metadata": {},
   "source": [
    "\n",
    "Bulleted List\n",
    "<ul>\n",
    "<li>Monday</li>\n",
    "<li>Tuesday</li>\n",
    "<li>Wednesday</li>\n",
    "</ul>\n",
    "\n",
    "Numbered List\n",
    "<ol>\n",
    "<li>January</li>\n",
    "<li>Febuary</li>\n",
    "<li>March</li>\n",
    "</ol>\n",
    "\n",
    "\n",
    "Hyperlink\n",
    "\n",
    "<a href=\"https://github.com/\" > Github Link</a>\n",
    "\n"
   ]
  },
  {
   "cell_type": "code",
   "execution_count": null,
   "id": "8848e126-e622-400a-9fc7-6815438beddb",
   "metadata": {},
   "outputs": [],
   "source": []
  }
 ],
 "metadata": {
  "kernelspec": {
   "display_name": "Python",
   "language": "python",
   "name": "conda-env-python-py"
  },
  "language_info": {
   "codemirror_mode": {
    "name": "ipython",
    "version": 3
   },
   "file_extension": ".py",
   "mimetype": "text/x-python",
   "name": "python",
   "nbconvert_exporter": "python",
   "pygments_lexer": "ipython3",
   "version": "3.7.12"
  }
 },
 "nbformat": 4,
 "nbformat_minor": 5
}
